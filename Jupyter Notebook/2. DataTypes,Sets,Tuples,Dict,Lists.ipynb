{
 "cells": [
  {
   "cell_type": "code",
   "execution_count": 1,
   "id": "7bea6abe",
   "metadata": {},
   "outputs": [
    {
     "data": {
      "text/plain": [
       "' Built-in Data Types\\nIn programming, data type is an important concept.\\n\\nVariables can store data of different types, and different types can do different things.\\n\\nPython has the following data types built-in by default, in these categories:\\n\\nText Type:\\tstr\\nNumeric Types:\\tint, float, complex\\nSequence Types:\\tlist, tuple, range\\nMapping Type:\\tdict\\nSet Types:\\tset, frozenset\\nBoolean Type:\\tbool\\nBinary Types:\\tbytes, bytearray, memoryview\\nNone Type:\\tNoneType '"
      ]
     },
     "execution_count": 1,
     "metadata": {},
     "output_type": "execute_result"
    }
   ],
   "source": [
    "\"\"\" Built-in Data Types\n",
    "In programming, data type is an important concept.\n",
    "\n",
    "Variables can store data of different types, and different types can do different things.\n",
    "\n",
    "Python has the following data types built-in by default, in these categories:\n",
    "\n",
    "Text Type:\tstr\n",
    "Numeric Types:\tint, float, complex\n",
    "Sequence Types:\tlist, tuple, range\n",
    "Mapping Type:\tdict\n",
    "Set Types:\tset, frozenset\n",
    "Boolean Type:\tbool\n",
    "Binary Types:\tbytes, bytearray, memoryview\n",
    "None Type:\tNoneType \"\"\""
   ]
  },
  {
   "cell_type": "code",
   "execution_count": 2,
   "id": "4c3ed822",
   "metadata": {},
   "outputs": [
    {
     "name": "stdout",
     "output_type": "stream",
     "text": [
      "<class 'int'>\n"
     ]
    }
   ],
   "source": [
    "# Checking the Data Type\n",
    "\n",
    "x = 5\n",
    "print(type(x))"
   ]
  },
  {
   "cell_type": "code",
   "execution_count": 3,
   "id": "d80d66d2",
   "metadata": {},
   "outputs": [
    {
     "data": {
      "text/plain": [
       "int"
      ]
     },
     "execution_count": 3,
     "metadata": {},
     "output_type": "execute_result"
    }
   ],
   "source": [
    "type(x)"
   ]
  },
  {
   "cell_type": "code",
   "execution_count": 4,
   "id": "c3839aeb",
   "metadata": {},
   "outputs": [],
   "source": [
    "# 4 MAJOR Data Types:\n",
    "\n",
    "# Lists \n",
    "\n",
    "x = [\"Apple\",\"Banana\"]"
   ]
  },
  {
   "cell_type": "code",
   "execution_count": 5,
   "id": "9233be52",
   "metadata": {},
   "outputs": [
    {
     "data": {
      "text/plain": [
       "list"
      ]
     },
     "execution_count": 5,
     "metadata": {},
     "output_type": "execute_result"
    }
   ],
   "source": [
    "type(x)"
   ]
  },
  {
   "cell_type": "code",
   "execution_count": 6,
   "id": "41f2c32f",
   "metadata": {},
   "outputs": [],
   "source": [
    "# Tuple\n",
    "\n",
    "y = (\"Apple\", \"Banana\")"
   ]
  },
  {
   "cell_type": "code",
   "execution_count": 7,
   "id": "88146eab",
   "metadata": {},
   "outputs": [
    {
     "data": {
      "text/plain": [
       "tuple"
      ]
     },
     "execution_count": 7,
     "metadata": {},
     "output_type": "execute_result"
    }
   ],
   "source": [
    "type(y)"
   ]
  },
  {
   "cell_type": "code",
   "execution_count": 8,
   "id": "c4a28d6f",
   "metadata": {},
   "outputs": [],
   "source": [
    "# Dictionary\n",
    "\n",
    "z = {\"name\" : \"Yash\", \"Age\" : 22}"
   ]
  },
  {
   "cell_type": "code",
   "execution_count": 9,
   "id": "9c7a5014",
   "metadata": {},
   "outputs": [
    {
     "name": "stdout",
     "output_type": "stream",
     "text": [
      "{'name': 'Yash', 'Age': 22}\n"
     ]
    }
   ],
   "source": [
    "type(z)\n",
    "print(z)"
   ]
  },
  {
   "cell_type": "code",
   "execution_count": 10,
   "id": "06b0929f",
   "metadata": {},
   "outputs": [
    {
     "data": {
      "text/plain": [
       "dict"
      ]
     },
     "execution_count": 10,
     "metadata": {},
     "output_type": "execute_result"
    }
   ],
   "source": [
    "type(z)"
   ]
  },
  {
   "cell_type": "code",
   "execution_count": 11,
   "id": "6b26bb98",
   "metadata": {},
   "outputs": [],
   "source": [
    "mySet = {\"Yash\",22}"
   ]
  },
  {
   "cell_type": "code",
   "execution_count": 12,
   "id": "93c4c346",
   "metadata": {},
   "outputs": [
    {
     "data": {
      "text/plain": [
       "{22, 'Yash'}"
      ]
     },
     "execution_count": 12,
     "metadata": {},
     "output_type": "execute_result"
    }
   ],
   "source": [
    "mySet"
   ]
  },
  {
   "cell_type": "code",
   "execution_count": 13,
   "id": "c0e4dbee",
   "metadata": {},
   "outputs": [
    {
     "data": {
      "text/plain": [
       "set"
      ]
     },
     "execution_count": 13,
     "metadata": {},
     "output_type": "execute_result"
    }
   ],
   "source": [
    "type(mySet)"
   ]
  },
  {
   "cell_type": "code",
   "execution_count": 14,
   "id": "e84202d3",
   "metadata": {},
   "outputs": [
    {
     "name": "stdout",
     "output_type": "stream",
     "text": [
      "Numbers In Python\n"
     ]
    }
   ],
   "source": [
    "print(\"Numbers In Python\")"
   ]
  },
  {
   "cell_type": "code",
   "execution_count": 15,
   "id": "1e09360d",
   "metadata": {},
   "outputs": [
    {
     "name": "stdout",
     "output_type": "stream",
     "text": [
      "<class 'int'>\n",
      "<class 'float'>\n",
      "<class 'complex'>\n"
     ]
    }
   ],
   "source": [
    "x = 1    # int\n",
    "y = 2.8  # float\n",
    "z = 1j   # complex\n",
    "print(type(x))\n",
    "print(type(y))\n",
    "print(type(z))"
   ]
  },
  {
   "cell_type": "code",
   "execution_count": 16,
   "id": "8ec1d4b1",
   "metadata": {},
   "outputs": [
    {
     "name": "stdout",
     "output_type": "stream",
     "text": [
      "<class 'int'>\n",
      "<class 'int'>\n",
      "<class 'int'>\n"
     ]
    }
   ],
   "source": [
    "x = 1\n",
    "y = 35656222554887711\n",
    "z = -3255522\n",
    "\n",
    "print(type(x))\n",
    "print(type(y))\n",
    "print(type(z))"
   ]
  },
  {
   "cell_type": "code",
   "execution_count": 17,
   "id": "c07142c0",
   "metadata": {},
   "outputs": [
    {
     "name": "stdout",
     "output_type": "stream",
     "text": [
      "<class 'float'>\n",
      "<class 'float'>\n",
      "<class 'float'>\n"
     ]
    }
   ],
   "source": [
    "x = 1.10\n",
    "y = 1.0\n",
    "z = -35.59\n",
    "\n",
    "print(type(x))\n",
    "print(type(y))\n",
    "print(type(z))"
   ]
  },
  {
   "cell_type": "code",
   "execution_count": 18,
   "id": "e444edc9",
   "metadata": {},
   "outputs": [
    {
     "name": "stdout",
     "output_type": "stream",
     "text": [
      "<class 'complex'>\n",
      "<class 'complex'>\n",
      "<class 'complex'>\n"
     ]
    }
   ],
   "source": [
    "x = 3+5j\n",
    "y = 5j\n",
    "z = -5j\n",
    "\n",
    "print(type(x))\n",
    "print(type(y))\n",
    "print(type(z))"
   ]
  },
  {
   "cell_type": "code",
   "execution_count": 19,
   "id": "8eaa9bc2",
   "metadata": {},
   "outputs": [
    {
     "name": "stdout",
     "output_type": "stream",
     "text": [
      "b\n",
      "a\n",
      "n\n",
      "a\n",
      "n\n",
      "a\n"
     ]
    }
   ],
   "source": [
    "for x in \"banana\":\n",
    "    print(x)"
   ]
  },
  {
   "cell_type": "code",
   "execution_count": 20,
   "id": "9664fe44",
   "metadata": {},
   "outputs": [
    {
     "name": "stdout",
     "output_type": "stream",
     "text": [
      "Yash\n"
     ]
    }
   ],
   "source": [
    "# String Slicing\n",
    "\n",
    "Strings = \"Yash B Joshi\"\n",
    "print(Strings[0:4])"
   ]
  },
  {
   "cell_type": "code",
   "execution_count": 21,
   "id": "a7eea1fc",
   "metadata": {},
   "outputs": [
    {
     "name": "stdout",
     "output_type": "stream",
     "text": [
      "Yash\n"
     ]
    }
   ],
   "source": [
    "print(Strings[:4])"
   ]
  },
  {
   "cell_type": "code",
   "execution_count": 22,
   "id": "3226c8c2",
   "metadata": {},
   "outputs": [
    {
     "name": "stdout",
     "output_type": "stream",
     "text": [
      " B Joshi\n"
     ]
    }
   ],
   "source": [
    "print(Strings[4:])"
   ]
  },
  {
   "cell_type": "code",
   "execution_count": 26,
   "id": "50666172",
   "metadata": {},
   "outputs": [
    {
     "name": "stdout",
     "output_type": "stream",
     "text": [
      "   Hello World    \n",
      "Hello World\n"
     ]
    }
   ],
   "source": [
    "a = \"   Hello World    \"\n",
    "print(a)\n",
    "print(a.strip())"
   ]
  },
  {
   "cell_type": "code",
   "execution_count": 27,
   "id": "882d942d",
   "metadata": {},
   "outputs": [],
   "source": [
    "str1 = \"Hello\"\n",
    "str2 = \"World\""
   ]
  },
  {
   "cell_type": "code",
   "execution_count": 28,
   "id": "eae113e3",
   "metadata": {},
   "outputs": [],
   "source": [
    "strs = str1+str2"
   ]
  },
  {
   "cell_type": "code",
   "execution_count": 29,
   "id": "22189bb8",
   "metadata": {},
   "outputs": [
    {
     "name": "stdout",
     "output_type": "stream",
     "text": [
      "HelloWorld\n"
     ]
    }
   ],
   "source": [
    "print(strs)"
   ]
  },
  {
   "cell_type": "code",
   "execution_count": 30,
   "id": "070f1ae6",
   "metadata": {},
   "outputs": [
    {
     "name": "stdout",
     "output_type": "stream",
     "text": [
      "My name is John, and I am 36\n"
     ]
    }
   ],
   "source": [
    "age = 36\n",
    "txt = \"My name is John, and I am {}\"\n",
    "print(txt.format(age))"
   ]
  },
  {
   "cell_type": "code",
   "execution_count": 31,
   "id": "88536bd8",
   "metadata": {},
   "outputs": [],
   "source": [
    "# Strings and int can be combined using .format operator"
   ]
  },
  {
   "cell_type": "code",
   "execution_count": 32,
   "id": "fa45c973",
   "metadata": {},
   "outputs": [
    {
     "name": "stdout",
     "output_type": "stream",
     "text": [
      "I want 3 pieces of item 567 for 49.95 dollars.\n"
     ]
    }
   ],
   "source": [
    "quantity = 3\n",
    "itemno = 567\n",
    "price = 49.95\n",
    "myorder = \"I want {} pieces of item {} for {} dollars.\"\n",
    "print(myorder.format(quantity, itemno, price))"
   ]
  },
  {
   "cell_type": "code",
   "execution_count": 33,
   "id": "2c387c01",
   "metadata": {},
   "outputs": [],
   "source": [
    "# python escape Charectors\n",
    "# Code\tResult\tTry it\n",
    "# \\'\tSingle Quote\t\n",
    "# \\\\\tBackslash\t\n",
    "# \\n\tNew Line\t\n",
    "# \\r\tCarriage Return\t\n",
    "# \\t\tTab\t\n",
    "# \\b\tBackspace\t\n",
    "# \\f\tForm Feed\t\n",
    "# \\ooo\tOctal value\t\n",
    "# \\xhh\tHex value ###"
   ]
  },
  {
   "cell_type": "code",
   "execution_count": null,
   "id": "6a447a09",
   "metadata": {},
   "outputs": [],
   "source": []
  }
 ],
 "metadata": {
  "kernelspec": {
   "display_name": "Python 3 (ipykernel)",
   "language": "python",
   "name": "python3"
  },
  "language_info": {
   "codemirror_mode": {
    "name": "ipython",
    "version": 3
   },
   "file_extension": ".py",
   "mimetype": "text/x-python",
   "name": "python",
   "nbconvert_exporter": "python",
   "pygments_lexer": "ipython3",
   "version": "3.11.1"
  }
 },
 "nbformat": 4,
 "nbformat_minor": 5
}
