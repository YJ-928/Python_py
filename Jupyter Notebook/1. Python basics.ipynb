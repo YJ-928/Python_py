{
 "cells": [
  {
   "cell_type": "code",
   "execution_count": 1,
   "id": "ceb9e6f9",
   "metadata": {},
   "outputs": [
    {
     "name": "stdout",
     "output_type": "stream",
     "text": [
      "Hello World!\n"
     ]
    }
   ],
   "source": [
    "# how to print in python\n",
    "\n",
    "print(\"Hello World!\")"
   ]
  },
  {
   "cell_type": "code",
   "execution_count": 2,
   "id": "86bb8c3e",
   "metadata": {},
   "outputs": [
    {
     "name": "stdout",
     "output_type": "stream",
     "text": [
      "Hello, World!!\n"
     ]
    }
   ],
   "source": [
    "# no semi colons at last like JS and C\n",
    "print('Hello, World!!')"
   ]
  },
  {
   "cell_type": "code",
   "execution_count": 4,
   "id": "7d9ea087",
   "metadata": {},
   "outputs": [],
   "source": [
    "# To check if python is installed in your system\n",
    "\n",
    "# >python --version\n",
    "\n",
    "# type in command prompt"
   ]
  },
  {
   "cell_type": "code",
   "execution_count": 5,
   "id": "a1f32dd4",
   "metadata": {},
   "outputs": [],
   "source": [
    "# To simply start writing codes in cmd, \n",
    "\n",
    "# Just type python and press enter, \n",
    "\n",
    "# Then you can start typing your code and directly executing them in cmd itself"
   ]
  },
  {
   "cell_type": "code",
   "execution_count": 6,
   "id": "df65829a",
   "metadata": {},
   "outputs": [],
   "source": [
    "# variables in python\n",
    "\n",
    "x = 5\n",
    "y = \"Hello\""
   ]
  },
  {
   "cell_type": "code",
   "execution_count": 7,
   "id": "685c738f",
   "metadata": {},
   "outputs": [
    {
     "data": {
      "text/plain": [
       "5"
      ]
     },
     "execution_count": 7,
     "metadata": {},
     "output_type": "execute_result"
    }
   ],
   "source": [
    "x"
   ]
  },
  {
   "cell_type": "code",
   "execution_count": 8,
   "id": "9db5a23f",
   "metadata": {},
   "outputs": [
    {
     "data": {
      "text/plain": [
       "'Hello'"
      ]
     },
     "execution_count": 8,
     "metadata": {},
     "output_type": "execute_result"
    }
   ],
   "source": [
    "y"
   ]
  },
  {
   "cell_type": "code",
   "execution_count": 9,
   "id": "541e0a28",
   "metadata": {},
   "outputs": [],
   "source": [
    "# apart from the keywords anything starting from a letter followed by num/letter\n",
    "\n",
    "# can be a variable in python\n",
    "\n",
    "# no semi colons again, unlike JS and C"
   ]
  },
  {
   "cell_type": "code",
   "execution_count": 11,
   "id": "6de6099a",
   "metadata": {},
   "outputs": [
    {
     "data": {
      "text/plain": [
       "'\\nThis is a multi Line comment feature of python, \\nanything inside here is all regarded as comment\\n\\n'"
      ]
     },
     "execution_count": 11,
     "metadata": {},
     "output_type": "execute_result"
    }
   ],
   "source": [
    "\"\"\"\n",
    "This is a multi Line comment feature of python, \n",
    "anything inside here is all regarded as comment\n",
    "\n",
    "\"\"\""
   ]
  },
  {
   "cell_type": "code",
   "execution_count": 12,
   "id": "d2083bdd",
   "metadata": {},
   "outputs": [],
   "source": [
    "x = str(3)\n",
    "y = int(3)\n",
    "z = float(3)\n",
    "\n",
    "# Following shows varios types of variables with their data types as used in python"
   ]
  },
  {
   "cell_type": "code",
   "execution_count": 13,
   "id": "5707bab3",
   "metadata": {},
   "outputs": [
    {
     "data": {
      "text/plain": [
       "str"
      ]
     },
     "execution_count": 13,
     "metadata": {},
     "output_type": "execute_result"
    }
   ],
   "source": [
    "type(x)"
   ]
  },
  {
   "cell_type": "code",
   "execution_count": 14,
   "id": "701b44f8",
   "metadata": {},
   "outputs": [
    {
     "data": {
      "text/plain": [
       "float"
      ]
     },
     "execution_count": 14,
     "metadata": {},
     "output_type": "execute_result"
    }
   ],
   "source": [
    "type(y)\n",
    "type(z)"
   ]
  },
  {
   "cell_type": "code",
   "execution_count": 15,
   "id": "019ccd31",
   "metadata": {},
   "outputs": [],
   "source": [
    "# type() function or keyword shows the type of variable"
   ]
  },
  {
   "cell_type": "code",
   "execution_count": 16,
   "id": "70ee6907",
   "metadata": {},
   "outputs": [],
   "source": [
    "# following are all the correct ways to declare a python variable"
   ]
  },
  {
   "cell_type": "code",
   "execution_count": 17,
   "id": "2a4380c3",
   "metadata": {},
   "outputs": [],
   "source": [
    "myvar = \"John\"\n",
    "my_var = \"John\"\n",
    "_my_var = \"John\"\n",
    "myVar = \"John\"\n",
    "MYVAR = \"John\"\n",
    "myvar2 = \"John\""
   ]
  },
  {
   "cell_type": "code",
   "execution_count": 18,
   "id": "a1d393c7",
   "metadata": {},
   "outputs": [],
   "source": [
    "# Camel Case (Generally used in JS)\n",
    "\n",
    "myVariableName = \"Yash\""
   ]
  },
  {
   "cell_type": "code",
   "execution_count": 19,
   "id": "25c5ec52",
   "metadata": {},
   "outputs": [],
   "source": [
    "# Pascal Case\n",
    "\n",
    "MyVariableName = \"Yash\""
   ]
  },
  {
   "cell_type": "code",
   "execution_count": 20,
   "id": "d3773163",
   "metadata": {},
   "outputs": [],
   "source": [
    "# Snake Case\n",
    "\n",
    "my_variable_name = \"Yash\""
   ]
  },
  {
   "cell_type": "code",
   "execution_count": 21,
   "id": "2fd69fc8",
   "metadata": {},
   "outputs": [],
   "source": [
    "# declaring multi line variables in python in single Line\n",
    "\n",
    "x, y, z = \"Yash\",\"Joshi\",\"King\""
   ]
  },
  {
   "cell_type": "code",
   "execution_count": 22,
   "id": "4246a985",
   "metadata": {},
   "outputs": [],
   "source": [
    "# or same value multiple variables\n",
    "\n",
    "x = y = z = \"YASHJOSHI\""
   ]
  },
  {
   "cell_type": "code",
   "execution_count": 23,
   "id": "df1c8029",
   "metadata": {},
   "outputs": [
    {
     "name": "stdout",
     "output_type": "stream",
     "text": [
      "apple\n",
      "banana\n",
      "cherry\n"
     ]
    }
   ],
   "source": [
    "fruits = [\"apple\", \"banana\", \"cherry\"]\n",
    "x, y, z = fruits\n",
    "print(x)\n",
    "print(y)\n",
    "print(z)"
   ]
  },
  {
   "cell_type": "code",
   "execution_count": 24,
   "id": "b14165a3",
   "metadata": {},
   "outputs": [],
   "source": [
    "# Above method shows the unpacking of a List, x.y.z = List Name, Allots each \n",
    "# List item to respective variable"
   ]
  },
  {
   "cell_type": "code",
   "execution_count": 25,
   "id": "7b1f2c61",
   "metadata": {},
   "outputs": [
    {
     "name": "stdout",
     "output_type": "stream",
     "text": [
      "Python is awesome\n"
     ]
    }
   ],
   "source": [
    "x = \"Python\"\n",
    "y = \"is\"\n",
    "z = \"awesome\"\n",
    "print(x, y, z)\n"
   ]
  },
  {
   "cell_type": "code",
   "execution_count": 26,
   "id": "b36fa381",
   "metadata": {},
   "outputs": [
    {
     "name": "stdout",
     "output_type": "stream",
     "text": [
      "Python is awesome\n"
     ]
    }
   ],
   "source": [
    "x = \"Python \"\n",
    "y = \"is \"\n",
    "z = \"awesome\"\n",
    "print(x + y + z)"
   ]
  },
  {
   "cell_type": "code",
   "execution_count": 27,
   "id": "17e1f9a4",
   "metadata": {},
   "outputs": [
    {
     "name": "stdout",
     "output_type": "stream",
     "text": [
      "Python is awesome\n"
     ]
    }
   ],
   "source": [
    "# Global Variables\n",
    "\n",
    "x = \"awesome\"\n",
    "\n",
    "def myfunc():\n",
    "  print(\"Python is \" + x)\n",
    "\n",
    "myfunc()"
   ]
  },
  {
   "cell_type": "code",
   "execution_count": 28,
   "id": "1d089ff4",
   "metadata": {},
   "outputs": [
    {
     "name": "stdout",
     "output_type": "stream",
     "text": [
      "Python is fantastic\n",
      "Python is awesome\n"
     ]
    }
   ],
   "source": [
    "x = \"awesome\"\n",
    "\n",
    "def myfunc():\n",
    "  x = \"fantastic\"\n",
    "  print(\"Python is \" + x)\n",
    "\n",
    "myfunc()\n",
    "\n",
    "print(\"Python is \" + x)"
   ]
  },
  {
   "cell_type": "code",
   "execution_count": 29,
   "id": "01989021",
   "metadata": {},
   "outputs": [
    {
     "name": "stdout",
     "output_type": "stream",
     "text": [
      "Python is fantastic\n"
     ]
    }
   ],
   "source": [
    "# to change a global variable inside a function\n",
    "\n",
    "x = \"awesome\"\n",
    "\n",
    "def myfunc():\n",
    "  global x\n",
    "  x = \"fantastic\"\n",
    "\n",
    "myfunc()\n",
    "\n",
    "print(\"Python is \" + x)"
   ]
  },
  {
   "cell_type": "code",
   "execution_count": 30,
   "id": "20729e93",
   "metadata": {},
   "outputs": [
    {
     "data": {
      "text/plain": [
       "'\\n    \\nText Type:\\tstr\\nNumeric Types:\\tint, float, complex\\nSequence Types:\\tlist, tuple, range\\nMapping Type:\\tdict\\nSet Types:\\tset, frozenset\\nBoolean Type:\\tbool\\nBinary Types:\\tbytes, bytearray, memoryview\\nNone Type:\\tNoneType\\n    \\n'"
      ]
     },
     "execution_count": 30,
     "metadata": {},
     "output_type": "execute_result"
    }
   ],
   "source": [
    "# Python Built-In Data Types\n",
    "\"\"\"\n",
    "    \n",
    "Text Type:\tstr\n",
    "Numeric Types:\tint, float, complex\n",
    "Sequence Types:\tlist, tuple, range\n",
    "Mapping Type:\tdict\n",
    "Set Types:\tset, frozenset\n",
    "Boolean Type:\tbool\n",
    "Binary Types:\tbytes, bytearray, memoryview\n",
    "None Type:\tNoneType\n",
    "    \n",
    "\"\"\""
   ]
  },
  {
   "cell_type": "code",
   "execution_count": null,
   "id": "538d3712",
   "metadata": {},
   "outputs": [],
   "source": []
  }
 ],
 "metadata": {
  "kernelspec": {
   "display_name": "Python 3 (ipykernel)",
   "language": "python",
   "name": "python3"
  },
  "language_info": {
   "codemirror_mode": {
    "name": "ipython",
    "version": 3
   },
   "file_extension": ".py",
   "mimetype": "text/x-python",
   "name": "python",
   "nbconvert_exporter": "python",
   "pygments_lexer": "ipython3",
   "version": "3.11.1"
  }
 },
 "nbformat": 4,
 "nbformat_minor": 5
}
